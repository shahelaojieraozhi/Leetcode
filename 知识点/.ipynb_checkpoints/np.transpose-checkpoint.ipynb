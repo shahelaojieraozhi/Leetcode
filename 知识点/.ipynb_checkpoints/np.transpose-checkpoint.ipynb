{
 "cells": [
  {
   "cell_type": "code",
   "execution_count": null,
   "id": "6f214b40",
   "metadata": {},
   "outputs": [],
   "source": [
    "import numpy as np\n",
    "\n",
    "x = np.arange(4).reshape((2, 2))\n",
    "print(x)\n",
    "print(x.transpose())\n",
    "print(x)\n",
    "\n",
    "print(x.transpose((0, 1)))\n",
    "# [[0 1]\n",
    "#  [2 3]]\n",
    "print(x.transpose((1, 0)))\n",
    "# [[0 2]\n",
    "#  [1 3]]"
   ]
  },
  {
   "cell_type": "code",
   "execution_count": null,
   "id": "bbcd727c",
   "metadata": {},
   "outputs": [],
   "source": []
  }
 ],
 "metadata": {
  "kernelspec": {
   "display_name": "Python 3 (ipykernel)",
   "language": "python",
   "name": "python3"
  }
 },
 "nbformat": 4,
 "nbformat_minor": 5
}
